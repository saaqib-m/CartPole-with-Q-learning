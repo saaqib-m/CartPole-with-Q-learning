{
    "cells": [
        {
            "cell_type": "markdown",
            "source": [
                "Simple Q-learning implementation to the Open AI Gym CartPole problem"
            ],
            "metadata": {}
        },
        {
            "cell_type": "code",
            "execution_count": 1,
            "source": [
                "import gym\r\n",
                "import numpy as np\r\n",
                "import random\r\n",
                "from statistics import mean, stdev\r\n",
                "import matplotlib.pyplot as plt \r\n",
                "from IPython.display import clear_output\r\n",
                "\r\n",
                "env = gym.make('CartPole-v0')"
            ],
            "outputs": [],
            "metadata": {}
        },
        {
            "cell_type": "code",
            "execution_count": 2,
            "source": [
                "Observation = [50, 50, 50, 50]\r\n",
                "np_array_win_size = np.array([0.25, 0.25, 0.01, 0.1])\r\n",
                "\r\n",
                "q_table = np.random.uniform(low=0, high=1, size=(Observation + [env.action_space.n]))\r\n",
                "print('Q Table Shape:', q_table.shape)\r\n",
                "print((np.shape(env.observation_space),env.action_space.n))"
            ],
            "outputs": [
                {
                    "output_type": "stream",
                    "name": "stdout",
                    "text": [
                        "(50, 50, 50, 50, 2)\n",
                        "((4,), 2)\n"
                    ]
                }
            ],
            "metadata": {}
        },
        {
            "cell_type": "code",
            "execution_count": 3,
            "source": [
                "def get_discrete_state(state):\r\n",
                "    discrete_state = state/np_array_win_size+ np.array([15,10,1,10])\r\n",
                "    return tuple(discrete_state.astype(np.int))"
            ],
            "outputs": [],
            "metadata": {}
        },
        {
            "cell_type": "code",
            "execution_count": 4,
            "source": [
                "# Q-learning implementation:\r\n",
                "\r\n",
                "# Define paramaters:\r\n",
                "alpha = 0.1\r\n",
                "gamma = 0.9\r\n",
                "epsilon = 0.9\r\n",
                "EPISODES = 100000\r\n",
                "total_reward = []\r\n",
                "epoch_count = []\r\n",
                "discounted_rewards = []\r\n",
                "ep_reward, reward_cnt, epoch_counts = 0, 0, 0"
            ],
            "outputs": [],
            "metadata": {}
        },
        {
            "cell_type": "code",
            "execution_count": 5,
            "source": [
                "%%time\r\n",
                "\r\n",
                "for i in range(EPISODES+1):\r\n",
                "    discrete_state = get_discrete_state(env.reset())\r\n",
                "    done = False\r\n",
                "    while not done:\r\n",
                "        if random.uniform(0,1) < epsilon:\r\n",
                "            action = env.action_space.sample()\r\n",
                "        else:\r\n",
                "            action = np.argmax(q_table[discrete_state])\r\n",
                "\r\n",
                "        new_state, reward, done, info = env.step(action)\r\n",
                "\r\n",
                "        old_q = q_table[discrete_state,(action,)]\r\n",
                "        new_discrete_state = get_discrete_state(new_state)\r\n",
                "        next_max_q = np.max(q_table[new_discrete_state])\r\n",
                "\r\n",
                "        new_q_value = old_q + alpha*(reward + gamma*next_max_q - old_q)\r\n",
                "\r\n",
                "        q_table[discrete_state,(action,)] = new_q_value\r\n",
                "        \r\n",
                "        ep_reward += reward\r\n",
                "        discrete_state = new_discrete_state\r\n",
                "        \r\n",
                "    epoch_counts += 1\r\n",
                "    epoch_count.append(epoch_counts)\r\n",
                "\r\n",
                "    reward_cnt += ep_reward\r\n",
                "    total_reward.append(reward_cnt)\r\n",
                "\r\n",
                "    # if i> 2:\r\n",
                "    #     discounted_reward=(reward_cnt-mean(total_reward))/stdev(total_reward)\r\n",
                "    #     discounted_rewards.append(discounted_reward)\r\n",
                "\r\n",
                "    if i > 40000:\r\n",
                "        epsilon = epsilon*0.1\r\n",
                "\r\n",
                "    if i % 100 == 0:\r\n",
                "        clear_output(wait=True)\r\n",
                "        print(f\"Episode: {i}\")\r\n",
                "    \r\n",
                "    if i % 10 == 0:\r\n",
                "        env.render()\r\n",
                "    \r\n",
                "    \r\n",
                "env.close()\r\n",
                "print(\"Training finished.\\n\")"
            ],
            "outputs": [
                {
                    "output_type": "stream",
                    "name": "stdout",
                    "text": [
                        "Episode: 100000\n",
                        "Training finished.\n",
                        "\n",
                        "Wall time: 6min 34s\n"
                    ]
                }
            ],
            "metadata": {}
        },
        {
            "cell_type": "code",
            "execution_count": 6,
            "source": [
                "line2d = plt.plot(epoch_count,total_reward)\r\n",
                "plt.xlabel('Epoch')\r\n",
                "plt.ylabel('Total Reward')\r\n",
                "plt.title('Total Reward vs Epoch Count')\r\n",
                "plt.show()"
            ],
            "outputs": [
                {
                    "output_type": "display_data",
                    "data": {
                        "image/png": "[encoded data removed]",
                        "text/plain": [
                            "<Figure size 432x288 with 1 Axes>"
                        ]
                    },
                    "metadata": {
                        "needs_background": "light"
                    }
                }
            ],
            "metadata": {}
        }
    ],
    "metadata": {
        "orig_nbformat": 4,
        "language_info": {
            "name": "python",
            "version": "3.9.6",
            "mimetype": "text/x-python",
            "codemirror_mode": {
                "name": "ipython",
                "version": 3
            },
            "pygments_lexer": "ipython3",
            "nbconvert_exporter": "python",
            "file_extension": ".py"
        },
        "kernelspec": {
            "name": "python3",
            "display_name": "Python 3.9.6 64-bit"
        },
        "interpreter": {
            "hash": "e16dddf07b681241daaa47640c1db83e99c181a0b2fe1df995963d091a6441eb"
        }
    },
    "nbformat": 4,
    "nbformat_minor": 2
}